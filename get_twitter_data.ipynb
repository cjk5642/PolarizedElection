{
 "cells": [
  {
   "cell_type": "code",
   "execution_count": 3,
   "metadata": {},
   "outputs": [],
   "source": [
    "import json, csv, os, time\n",
    "\n",
    "import pandas as pd\n",
    "import urllib\n",
    "import tweepy"
   ]
  },
  {
   "cell_type": "code",
   "execution_count": 90,
   "metadata": {},
   "outputs": [],
   "source": [
    "# Load credentials from json file\n",
    "def get_credentials(file: str):\n",
    "    with open(file, \"r\") as f:\n",
    "        creds = json.load(f)\n",
    "        return creds\n",
    "\n",
    "def write_data(credentials, hashtag:str, runtime:int, language = 'en'):\n",
    "    creds = get_credentials(credentials)\n",
    "    auth = tweepy.OAuthHandler(creds['CONSUMER_KEY'], creds['CONSUMER_SECRET'])\n",
    "    auth.set_access_token(creds['ACCESS_TOKEN'], creds['ACCESS_SECRET'])\n",
    " \n",
    "    api = tweepy.API(auth,wait_on_rate_limit=True) \n",
    "    \n",
    "    tweet_file_name = f\"{hashtag}_tweet_data.csv\"\n",
    "    user_file_name = f\"{hashtag}_user_data.csv\"\n",
    "    \n",
    "    csvFile_tweet = open(os.path.join('Data','Tweets',tweet_file_name), 'w')\n",
    "    csvFile_user = open(os.path.join('Data','Users',user_file_name), 'w')\n",
    "    \n",
    "    csvWriter_tweet = csv.writer(csvFile_tweet)\n",
    "    csvWriter_user = csv.writer(csvFile_user)\n",
    "    \n",
    "    start = time.time()\n",
    "    for i, tweet in enumerate(tweepy.Cursor(api.search, q=f\"#{hashtag}\", since = '2020-08-01', lang=\"en\").items()):\n",
    "        if i != runtime*60:\n",
    "            tweet_dict = dict(tweet._json)\n",
    "            if (not tweet.retweeted) and ('RT @' not in tweet.text):\n",
    "                csvWriter_user.writerow([tweet_dict['user']['id_str'].encode('utf-8'),\n",
    "                                        tweet_dict['user']['screen_name'].encode('utf-8'),\n",
    "                                        tweet_dict['user']['name'].encode('utf-8'),\n",
    "                                        tweet_dict['user']['description'].encode('utf-8'),\n",
    "                                        tweet_dict['user']['created_at'].encode('utf-8'),\n",
    "                                        tweet_dict['user']['location'].encode('utf-8'),\n",
    "                                        tweet_dict['user']['verified'],\n",
    "                                        tweet_dict['user']['url'],\n",
    "                                        tweet_dict['user']['listed_count'],\n",
    "                                        tweet_dict['user']['favourites_count'],\n",
    "                                        tweet_dict['user']['statuses_count'],\n",
    "                                        tweet_dict['user']['followers_count'],\n",
    "                                        tweet_dict['user']['friends_count'],\n",
    "                                        tweet_dict['user']['profile_background_color'].encode('utf-8'),\n",
    "                                        tweet_dict['user']['profile_use_background_image']])\n",
    "                \n",
    "                csvWriter_tweet.writerow([tweet_dict['user']['id_str'].encode('utf-8'),\n",
    "                                        tweet_dict['text'].encode('utf-8'),\n",
    "                                        tweet_dict['created_at'],\n",
    "                                        tweet_dict['id_str'].encode('utf-8'),\n",
    "                                        [i['text'].encode('utf-8').lower() for i in tweet_dict['entities']['hashtags']]])\n",
    "        else:\n",
    "            break\n",
    "    end = time.time()\n",
    "    print(f\"Time taken to get tweets and users for {hashtag.capitalize()}: {end-start}\")\n",
    "    \n",
    "    if os.path.exists(os.path.join('Data','Tweets',tweet_file_name)) and os.path.exists(os.path.join('Data','Users',user_file_name)):\n",
    "        print(f\"Tweets added successfully to {tweet_file_name} and users added successfully to {user_file_name}\\n\")"
   ]
  },
  {
   "cell_type": "code",
   "execution_count": 91,
   "metadata": {},
   "outputs": [
    {
     "name": "stdout",
     "output_type": "stream",
     "text": [
      "Time taken to get tweets and users for Biden: 9.283036470413208\n",
      "Tweets added successfully to biden_tweet_data.csv and users added successfully to biden_user_data.csv\n",
      "\n",
      "Time taken to get tweets and users for Trump: 8.195875644683838\n",
      "Tweets added successfully to trump_tweet_data.csv and users added successfully to trump_user_data.csv\n",
      "\n",
      "Time taken to get tweets and users for Theright: 0.711946964263916\n",
      "Tweets added successfully to theright_tweet_data.csv and users added successfully to theright_user_data.csv\n",
      "\n",
      "Time taken to get tweets and users for Theleft: 0.8349714279174805\n",
      "Tweets added successfully to theleft_tweet_data.csv and users added successfully to theleft_user_data.csv\n",
      "\n"
     ]
    }
   ],
   "source": [
    "credential_path = r'Data\\twitter_credentials.json'\n",
    "\n",
    "write_data(credential_path, 'biden', 5)\n",
    "write_data(credential_path, 'trump', 5)\n",
    "write_data(credential_path, 'theright', 5)\n",
    "write_data(credential_path, 'theleft', 5)"
   ]
  }
 ],
 "metadata": {
  "kernelspec": {
   "display_name": "Python 3",
   "language": "python",
   "name": "python3"
  },
  "language_info": {
   "codemirror_mode": {
    "name": "ipython",
    "version": 3
   },
   "file_extension": ".py",
   "mimetype": "text/x-python",
   "name": "python",
   "nbconvert_exporter": "python",
   "pygments_lexer": "ipython3",
   "version": "3.8.3"
  }
 },
 "nbformat": 4,
 "nbformat_minor": 4
}
