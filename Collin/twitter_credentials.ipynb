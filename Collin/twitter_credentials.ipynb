{
 "cells": [
  {
   "cell_type": "code",
   "execution_count": 1,
   "metadata": {},
   "outputs": [],
   "source": [
    "import json\n",
    "import os"
   ]
  },
  {
   "cell_type": "code",
   "execution_count": 5,
   "metadata": {},
   "outputs": [
    {
     "name": "stdout",
     "output_type": "stream",
     "text": [
      "File added successfully\n"
     ]
    }
   ],
   "source": [
    "credentials = {}\n",
    "credentials['CONSUMER_KEY'] = '9Quc8lMkRtSRLe2HfuLujH9ZQ'\n",
    "credentials['CONSUMER_SECRET'] = 'FvZLZOciAPMJeMOklU9IJTiPrPy4tqnrEiZ0xqulw6jQkJFV9e'\n",
    "credentials['BEARER_TOKEN'] = 'AAAAAAAAAAAAAAAAAAAAAAFKIQEAAAAA6uV3oyD9rKn07p1xi9IZ7Ej8v9k%3DvdIwb0MSF5Cjok62Rn6vPsVZV5IxUOPmBvALO40o5xNOwPDhDe'\n",
    "credentials['ACCESS_TOKEN'] = '1311084273806573569-OiZoHqpCYw1IK3tCO7NoMe4HfmuCad'\n",
    "credentials['ACCESS_SECRET'] = 'i4jGZpYJKuhXWkoSDbnisEqKjQs5RqaeHiQcwmhZHYUUR'\n",
    "\n",
    "with open(\"Data\\\\twitter_credentials.json\", \"w\") as file:\n",
    "    json.dump(credentials, file)\n",
    "    \n",
    "if os.path.exists(r'Data\\twitter_credentials.json'):\n",
    "    print('File added successfully')"
   ]
  }
 ],
 "metadata": {
  "kernelspec": {
   "display_name": "Python 3",
   "language": "python",
   "name": "python3"
  },
  "language_info": {
   "codemirror_mode": {
    "name": "ipython",
    "version": 3
   },
   "file_extension": ".py",
   "mimetype": "text/x-python",
   "name": "python",
   "nbconvert_exporter": "python",
   "pygments_lexer": "ipython3",
   "version": "3.8.3"
  }
 },
 "nbformat": 4,
 "nbformat_minor": 4
}
