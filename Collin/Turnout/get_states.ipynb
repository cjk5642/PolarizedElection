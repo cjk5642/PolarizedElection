{
 "cells": [
  {
   "cell_type": "code",
   "execution_count": 15,
   "metadata": {},
   "outputs": [],
   "source": [
    "import pandas as pd\n",
    "import os"
   ]
  },
  {
   "cell_type": "code",
   "execution_count": 16,
   "metadata": {},
   "outputs": [
    {
     "name": "stdout",
     "output_type": "stream",
     "text": [
      "states.csv added successfully.\n"
     ]
    }
   ],
   "source": [
    "if not os.path.exists(r\".\\Data\\Misc\"):\n",
    "    os.mkdir(r\".\\Data\\Misc\")\n",
    "\n",
    "states = pd.read_html('https://www.factmonster.com/us/postal-information/state-abbreviations-and-state-postal-codes#:~:text=State%20Abbreviations%20and%20State%20Postal%20Codes%20%20,%20%20AZ%20%2055%20more%20rows%20')\n",
    "states[0].to_csv(r\".\\Data\\Misc\\states.csv\", index = False)\n",
    "\n",
    "if os.path.exists(r\".\\Data\\Misc\\states.csv\"):\n",
    "    print(\"states.csv added successfully.\")"
   ]
  }
 ],
 "metadata": {
  "kernelspec": {
   "display_name": "Python 3",
   "language": "python",
   "name": "python3"
  },
  "language_info": {
   "codemirror_mode": {
    "name": "ipython",
    "version": 3
   },
   "file_extension": ".py",
   "mimetype": "text/x-python",
   "name": "python",
   "nbconvert_exporter": "python",
   "pygments_lexer": "ipython3",
   "version": "3.8.3"
  }
 },
 "nbformat": 4,
 "nbformat_minor": 4
}
