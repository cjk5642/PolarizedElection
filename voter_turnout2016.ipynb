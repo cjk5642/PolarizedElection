{
 "cells": [
  {
   "cell_type": "code",
   "execution_count": 42,
   "metadata": {},
   "outputs": [],
   "source": [
    "import pandas as pd\n",
    "import matplotlib.pyplot as plt\n",
    "import os"
   ]
  },
  {
   "cell_type": "code",
   "execution_count": 67,
   "metadata": {},
   "outputs": [
    {
     "name": "stdout",
     "output_type": "stream",
     "text": [
      "voter_turnout.csv added successfully.\n"
     ]
    }
   ],
   "source": [
    "counties = pd.read_csv(r'.\\Data\\Misc\\co-est2016-alldata.csv')\n",
    "\n",
    "names2016 = [i for i in counties.columns if '2016' in i]\n",
    "counties = counties[['STNAME','CTYNAME', 'POPESTIMATE2016']]\n",
    "counties = counties[counties['STNAME'] != counties['CTYNAME']]\n",
    "counties = counties.rename({'STNAME':'State', 'CTYNAME':'County'}, axis = 1)\n",
    "\n",
    "turnout = pd.read_csv(r\".\\Data\\Misc\\usa-2016-presidential-election-by-county.csv\", sep = \";\")\n",
    "turnout['County'] = turnout['County'].apply(lambda x: x.split(',')[0].strip())\n",
    "turnout2016 = [i for i in turnout.columns if '16' in i]\n",
    "turnout = turnout[['State','County', 'Votes', 'Republicans 2016', 'Democrats 2016', 'Green 2016', 'Libertarians 2016']]\n",
    "turnout.fillna(0, inplace = True)\n",
    "turnout = turnout.sort_values(by = ['State','County'])\n",
    "\n",
    "master = pd.merge(turnout,counties, how = 'left', on = ['State', 'County'])\n",
    "for votes in ['Republicans 2016', 'Democrats 2016', 'Green 2016', 'Libertarians 2016']:\n",
    "    master[votes] = (master['Votes'] * master[votes] / 100) / master['POPESTIMATE2016']\n",
    "\n",
    "master['TotalTurnout'] = master['Republicans 2016'] + master['Democrats 2016'] + master['Green 2016'] + master['Libertarians 2016']\n",
    "master['DidntVote'] = 1 - master['TotalTurnout']\n",
    "master = master[master['Votes'] != 0].reset_index(drop=True)\n",
    "master[\"CountyState\"] = [', '.join([master['County'][i], master['State'][i]]) for i in range(len(master))]\n",
    "\n",
    "master.to_csv(r\".\\Data\\Misc\\voter_turnout.csv\", index = False)\n",
    "\n",
    "if os.path.exists(r\".\\Data\\Misc\\voter_turnout.csv\"):\n",
    "    print(\"voter_turnout.csv added successfully.\")"
   ]
  }
 ],
 "metadata": {
  "kernelspec": {
   "display_name": "Python 3",
   "language": "python",
   "name": "python3"
  },
  "language_info": {
   "codemirror_mode": {
    "name": "ipython",
    "version": 3
   },
   "file_extension": ".py",
   "mimetype": "text/x-python",
   "name": "python",
   "nbconvert_exporter": "python",
   "pygments_lexer": "ipython3",
   "version": "3.8.3"
  }
 },
 "nbformat": 4,
 "nbformat_minor": 4
}
